{
 "cells": [
  {
   "cell_type": "markdown",
   "metadata": {},
   "source": [
    "# Assignment 1: Time Series Forecast With Python (Seasonal ARIMA)\n",
    "\n",
    "**Lecturer**: Vincent Claes<br>\n",
    "**Authors:** Bryan Honof, Jeffrey Gorissen<br>\n",
    "**Start Date:** 19/10/2018\n",
    "    \n",
    "**Objective:** Visualize and predict the future temperatures via ARIMA\n",
    "\n",
    "**Description:** In this notebook we train our model\n",
    "\n",
    "**This notebook is really only used to calculate the best parameters so most of the description is left out.**"
   ]
  },
  {
   "cell_type": "code",
   "execution_count": 1,
   "metadata": {
    "scrolled": true
   },
   "outputs": [],
   "source": [
    "import warnings\n",
    "import itertools\n",
    "\n",
    "import numpy             as np\n",
    "import pandas            as pd\n",
    "import statsmodels.api   as sm\n",
    "import matplotlib.pyplot as plt\n",
    "\n",
    "from sklearn.metrics import mean_absolute_error\n",
    "\n",
    "plt.style.use('fivethirtyeight')"
   ]
  },
  {
   "cell_type": "code",
   "execution_count": 2,
   "metadata": {
    "scrolled": true
   },
   "outputs": [
    {
     "name": "stdout",
     "output_type": "stream",
     "text": [
      "<class 'pandas.core.frame.DataFrame'>\n",
      "DatetimeIndex: 352 entries, 2018-11-10 23:00:00 to 2018-11-25 14:00:00\n",
      "Data columns (total 1 columns):\n",
      "temperature    352 non-null float64\n",
      "dtypes: float64(1)\n",
      "memory usage: 5.5 KB\n"
     ]
    }
   ],
   "source": [
    "data_csv = pd.read_csv('./data/data.csv')\n",
    "data = pd.DataFrame()\n",
    "\n",
    "# Convert the creation_date column to datetime64\n",
    "data['dateTime'] = pd.to_datetime(data_csv['dateTime'])\n",
    "# Convert the value column to float\n",
    "data['temperature'] = pd.to_numeric(data_csv['temperature'])\n",
    "\n",
    "# Set the dateTime column as index\n",
    "data = data.set_index(['dateTime'])\n",
    "\n",
    "# Sort the dataFrame just to be sure...\n",
    "data = data.sort_index()\n",
    "\n",
    "data = data.dropna()\n",
    "\n",
    "# Double check the results\n",
    "data.info()\n",
    "\n",
    "df = data"
   ]
  },
  {
   "cell_type": "code",
   "execution_count": 3,
   "metadata": {
    "scrolled": true
   },
   "outputs": [
    {
     "data": {
      "text/html": [
       "<div>\n",
       "<style scoped>\n",
       "    .dataframe tbody tr th:only-of-type {\n",
       "        vertical-align: middle;\n",
       "    }\n",
       "\n",
       "    .dataframe tbody tr th {\n",
       "        vertical-align: top;\n",
       "    }\n",
       "\n",
       "    .dataframe thead th {\n",
       "        text-align: right;\n",
       "    }\n",
       "</style>\n",
       "<table border=\"1\" class=\"dataframe\">\n",
       "  <thead>\n",
       "    <tr style=\"text-align: right;\">\n",
       "      <th></th>\n",
       "      <th>temperature</th>\n",
       "    </tr>\n",
       "    <tr>\n",
       "      <th>dateTime</th>\n",
       "      <th></th>\n",
       "    </tr>\n",
       "  </thead>\n",
       "  <tbody>\n",
       "    <tr>\n",
       "      <th>2018-11-25 10:00:00</th>\n",
       "      <td>17.99</td>\n",
       "    </tr>\n",
       "    <tr>\n",
       "      <th>2018-11-25 11:00:00</th>\n",
       "      <td>17.66</td>\n",
       "    </tr>\n",
       "    <tr>\n",
       "      <th>2018-11-25 12:00:00</th>\n",
       "      <td>18.62</td>\n",
       "    </tr>\n",
       "    <tr>\n",
       "      <th>2018-11-25 13:00:00</th>\n",
       "      <td>17.34</td>\n",
       "    </tr>\n",
       "    <tr>\n",
       "      <th>2018-11-25 14:00:00</th>\n",
       "      <td>15.28</td>\n",
       "    </tr>\n",
       "  </tbody>\n",
       "</table>\n",
       "</div>"
      ],
      "text/plain": [
       "                     temperature\n",
       "dateTime                        \n",
       "2018-11-25 10:00:00        17.99\n",
       "2018-11-25 11:00:00        17.66\n",
       "2018-11-25 12:00:00        18.62\n",
       "2018-11-25 13:00:00        17.34\n",
       "2018-11-25 14:00:00        15.28"
      ]
     },
     "execution_count": 3,
     "metadata": {},
     "output_type": "execute_result"
    }
   ],
   "source": [
    "data.tail(5)"
   ]
  },
  {
   "cell_type": "markdown",
   "metadata": {},
   "source": [
    "## Search for best parameters\n",
    "\n",
    "\n",
    "```p``` is the auto-regressive part of the model. It allows us to incorporate the effect of past values into our model. Intuitively, this would be similar to stating that it is likely to be warm tomorrow if it has been warm the past 3 days.<br>\n",
    "```d``` is the integrated part of the model. This includes terms in the model that incorporate the amount of differencing (i.e. the number of past time points to subtract from the current value) to apply to the time series. Intuitively, this would be similar to stating that it is likely to be same temperature tomorrow if the difference in temperature in the last three days has been very small.<br>\n",
    "```q``` is the moving average part of the model. This allows us to set the error of our model as a linear combination of the error values observed at previous time points in the past.\n",
    "\n",
    "We will use a \"grid search\" to iteratively explore different combinations of parameters. For each combination of parameters, we fit a new seasonal ARIMA model with the ```SARIMAX()``` function from the statsmodels module and assess its overall quality. Once we have explored the entire landscape of parameters, our optimal set of parameters will be the one that yields the best performance for our criteria of interest. Let's begin by generating the various combination of parameters that we wish to assess:"
   ]
  },
  {
   "cell_type": "code",
   "execution_count": 4,
   "metadata": {
    "scrolled": false
   },
   "outputs": [
    {
     "name": "stdout",
     "output_type": "stream",
     "text": [
      "Examples of parameter combinations for Seasonal ARIMA...\n",
      "SARIMAX: (0, 0, 1) x (0, 0, 1, 24)\n",
      "SARIMAX: (0, 0, 1) x (0, 1, 0, 24)\n",
      "SARIMAX: (0, 1, 0) x (0, 1, 1, 24)\n",
      "SARIMAX: (0, 1, 0) x (1, 0, 0, 24)\n"
     ]
    }
   ],
   "source": [
    "# Define the p, d and q parameters to take any value between 0 and 2\n",
    "p = d = q = range(0, 2)\n",
    "\n",
    "# Generate all different combinations of p, q and q triplets\n",
    "pdq = list(itertools.product(p, d, q))\n",
    "\n",
    "# Generate all different combinations of seasonal p, q and q triplets\n",
    "seasonal_pdq = [(x[0], x[1], x[2], 24) for x in list(itertools.product(p, d, q))]\n",
    "\n",
    "print('Examples of parameter combinations for Seasonal ARIMA...')\n",
    "print('SARIMAX: {} x {}'.format(pdq[1], seasonal_pdq[1]))\n",
    "print('SARIMAX: {} x {}'.format(pdq[1], seasonal_pdq[2]))\n",
    "print('SARIMAX: {} x {}'.format(pdq[2], seasonal_pdq[3]))\n",
    "print('SARIMAX: {} x {}'.format(pdq[2], seasonal_pdq[4]))"
   ]
  },
  {
   "cell_type": "markdown",
   "metadata": {},
   "source": [
    "Here we took a p, d, q value between 0 and 2. We could increase this number to get even more accurate predictions but for times sake we use 0 and 2. (We ran another test with 0 and 3 as range. The result of that test is what we used to do our prediction in the next notebook)"
   ]
  },
  {
   "cell_type": "code",
   "execution_count": 5,
   "metadata": {
    "scrolled": true
   },
   "outputs": [
    {
     "name": "stdout",
     "output_type": "stream",
     "text": [
      "ARIMA(0, 0, 0)x(0, 0, 0, 24)24 - AIC:3018.5\n",
      "ARIMA(0, 0, 0)x(0, 0, 1, 24)24 - AIC:2453.34\n",
      "ARIMA(0, 0, 0)x(0, 1, 0, 24)24 - AIC:1234.82\n",
      "ARIMA(0, 0, 0)x(0, 1, 1, 24)24 - AIC:1121.17\n",
      "ARIMA(0, 0, 0)x(1, 0, 0, 24)24 - AIC:1227.03\n",
      "ARIMA(0, 0, 0)x(1, 0, 1, 24)24 - AIC:1186.71\n",
      "ARIMA(0, 0, 0)x(1, 1, 0, 24)24 - AIC:1127.37\n",
      "ARIMA(0, 0, 0)x(1, 1, 1, 24)24 - AIC:1124.18\n",
      "ARIMA(0, 0, 1)x(0, 0, 0, 24)24 - AIC:2546.75\n",
      "ARIMA(0, 0, 1)x(0, 0, 1, 24)24 - AIC:2029.01\n",
      "ARIMA(0, 0, 1)x(0, 1, 0, 24)24 - AIC:1050.79\n",
      "ARIMA(0, 0, 1)x(0, 1, 1, 24)24 - AIC:929.74\n",
      "ARIMA(0, 0, 1)x(1, 0, 0, 24)24 - AIC:1047.61\n",
      "ARIMA(0, 0, 1)x(1, 0, 1, 24)24 - AIC:1050.0\n",
      "ARIMA(0, 0, 1)x(1, 1, 0, 24)24 - AIC:945.66\n",
      "ARIMA(0, 0, 1)x(1, 1, 1, 24)24 - AIC:939.42\n",
      "ARIMA(0, 1, 0)x(0, 0, 0, 24)24 - AIC:879.76\n",
      "ARIMA(0, 1, 0)x(0, 0, 1, 24)24 - AIC:815.15\n",
      "ARIMA(0, 1, 0)x(0, 1, 0, 24)24 - AIC:996.46\n",
      "ARIMA(0, 1, 0)x(0, 1, 1, 24)24 - AIC:793.33\n",
      "ARIMA(0, 1, 0)x(1, 0, 0, 24)24 - AIC:818.85\n",
      "ARIMA(0, 1, 0)x(1, 0, 1, 24)24 - AIC:817.15\n",
      "ARIMA(0, 1, 0)x(1, 1, 0, 24)24 - AIC:861.86\n",
      "ARIMA(0, 1, 0)x(1, 1, 1, 24)24 - AIC:795.06\n",
      "ARIMA(0, 1, 1)x(0, 0, 0, 24)24 - AIC:876.19\n",
      "ARIMA(0, 1, 1)x(0, 0, 1, 24)24 - AIC:813.02\n",
      "ARIMA(0, 1, 1)x(0, 1, 0, 24)24 - AIC:992.56\n",
      "ARIMA(0, 1, 1)x(0, 1, 1, 24)24 - AIC:792.02\n",
      "ARIMA(0, 1, 1)x(1, 0, 0, 24)24 - AIC:819.02\n",
      "ARIMA(0, 1, 1)x(1, 0, 1, 24)24 - AIC:815.02\n",
      "ARIMA(0, 1, 1)x(1, 1, 0, 24)24 - AIC:863.6\n",
      "ARIMA(0, 1, 1)x(1, 1, 1, 24)24 - AIC:793.68\n",
      "ARIMA(1, 0, 0)x(0, 0, 0, 24)24 - AIC:883.24\n",
      "ARIMA(1, 0, 0)x(0, 0, 1, 24)24 - AIC:820.06\n",
      "ARIMA(1, 0, 0)x(0, 1, 0, 24)24 - AIC:958.21\n",
      "ARIMA(1, 0, 0)x(0, 1, 1, 24)24 - AIC:782.12\n",
      "ARIMA(1, 0, 0)x(1, 0, 0, 24)24 - AIC:820.34\n",
      "ARIMA(1, 0, 0)x(1, 0, 1, 24)24 - AIC:841.53\n",
      "ARIMA(1, 0, 0)x(1, 1, 0, 24)24 - AIC:831.0\n",
      "ARIMA(1, 0, 0)x(1, 1, 1, 24)24 - AIC:783.79\n",
      "ARIMA(1, 0, 1)x(0, 0, 0, 24)24 - AIC:880.56\n",
      "ARIMA(1, 0, 1)x(0, 0, 1, 24)24 - AIC:816.63\n",
      "ARIMA(1, 0, 1)x(0, 1, 0, 24)24 - AIC:955.91\n",
      "ARIMA(1, 0, 1)x(0, 1, 1, 24)24 - AIC:777.72\n",
      "ARIMA(1, 0, 1)x(1, 0, 0, 24)24 - AIC:820.49\n",
      "ARIMA(1, 0, 1)x(1, 0, 1, 24)24 - AIC:836.22\n",
      "ARIMA(1, 0, 1)x(1, 1, 0, 24)24 - AIC:830.94\n",
      "ARIMA(1, 0, 1)x(1, 1, 1, 24)24 - AIC:779.45\n",
      "ARIMA(1, 1, 0)x(0, 0, 0, 24)24 - AIC:879.67\n",
      "ARIMA(1, 1, 0)x(0, 0, 1, 24)24 - AIC:815.49\n",
      "ARIMA(1, 1, 0)x(0, 1, 0, 24)24 - AIC:997.71\n",
      "ARIMA(1, 1, 0)x(0, 1, 1, 24)24 - AIC:794.06\n",
      "ARIMA(1, 1, 0)x(1, 0, 0, 24)24 - AIC:816.21\n",
      "ARIMA(1, 1, 0)x(1, 0, 1, 24)24 - AIC:817.48\n",
      "ARIMA(1, 1, 0)x(1, 1, 0, 24)24 - AIC:860.71\n",
      "ARIMA(1, 1, 0)x(1, 1, 1, 24)24 - AIC:795.72\n",
      "ARIMA(1, 1, 1)x(0, 0, 0, 24)24 - AIC:860.08\n",
      "ARIMA(1, 1, 1)x(0, 0, 1, 24)24 - AIC:798.16\n",
      "ARIMA(1, 1, 1)x(0, 1, 0, 24)24 - AIC:957.23\n",
      "ARIMA(1, 1, 1)x(0, 1, 1, 24)24 - AIC:775.46\n",
      "ARIMA(1, 1, 1)x(1, 0, 0, 24)24 - AIC:800.46\n",
      "ARIMA(1, 1, 1)x(1, 0, 1, 24)24 - AIC:800.05\n",
      "ARIMA(1, 1, 1)x(1, 1, 0, 24)24 - AIC:831.28\n",
      "ARIMA(1, 1, 1)x(1, 1, 1, 24)24 - AIC:777.46\n"
     ]
    }
   ],
   "source": [
    "warnings.filterwarnings(\"ignore\") # specify to ignore warning messages\n",
    "\n",
    "AIC = []\n",
    "_param = []\n",
    "_seasonal_param = []\n",
    "\n",
    "for param in pdq:\n",
    "    for param_seasonal in seasonal_pdq:\n",
    "        try:\n",
    "            mod = sm.tsa.statespace.SARIMAX(df,\n",
    "                                            order=param,\n",
    "                                            seasonal_order=param_seasonal,\n",
    "                                            enforce_stationarity=False,\n",
    "                                            enforce_invertibility=False)\n",
    "            \n",
    "            results = mod.fit()\n",
    "            pred = results.get_prediction(dynamic=False)\n",
    "            \n",
    "            AIC.append(round(results.aic, 2))\n",
    "            _param.append(param)\n",
    "            _seasonal_param.append(param_seasonal)\n",
    "\n",
    "            print('ARIMA{}x{}24 - AIC:{}'.format(param, param_seasonal, round(results.aic, 2)))\n",
    "        except:\n",
    "            continue"
   ]
  },
  {
   "cell_type": "code",
   "execution_count": 6,
   "metadata": {
    "scrolled": true
   },
   "outputs": [
    {
     "name": "stdout",
     "output_type": "stream",
     "text": [
      "(1, 1, 1) (0, 1, 1, 24) 775.46\n"
     ]
    }
   ],
   "source": [
    "min(AIC)\n",
    "pos = AIC.index(min(AIC))\n",
    "print(_param[pos], _seasonal_param[pos], min(AIC))\n",
    "\n",
    "order = _param[pos]\n",
    "seasonal_order = _seasonal_param[pos]"
   ]
  },
  {
   "cell_type": "markdown",
   "metadata": {},
   "source": [
    "As we can see the grid search has decided that ```(1, 1, 1) (0, 1, 1, 24) 765.03``` are the best parameters for our model. We will take these parameters and go to the next notebook to implement them. (In the other test we got a result of ```(2, 0, 2) (1, 1, 2, 24) 686.05```)"
   ]
  },
  {
   "cell_type": "markdown",
   "metadata": {},
   "source": [
    "**[⬆ back to top](#table-of-contents)** <br>\n",
    "[next notebook](./5_fitting_and_predicting.ipynb)"
   ]
  }
 ],
 "metadata": {
  "kernelspec": {
   "display_name": "Python 3",
   "language": "python",
   "name": "python3"
  },
  "language_info": {
   "codemirror_mode": {
    "name": "ipython",
    "version": 3
   },
   "file_extension": ".py",
   "mimetype": "text/x-python",
   "name": "python",
   "nbconvert_exporter": "python",
   "pygments_lexer": "ipython3",
   "version": "3.6.6"
  }
 },
 "nbformat": 4,
 "nbformat_minor": 2
}
